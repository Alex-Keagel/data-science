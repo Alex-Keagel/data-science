{
 "cells": [
  {
   "cell_type": "code",
   "execution_count": 1,
   "metadata": {},
   "outputs": [],
   "source": [
    "import pandas as pd\n",
    "import numpy as np\n",
    "from sklearn.feature_selection import VarianceThreshold\n",
    "from sklearn.linear_model import LogisticRegression\n",
    "from sklearn.svm import l1_min_c\n",
    "from sklearn.model_selection import GridSearchCV\n",
    "from sklearn.metrics import log_loss, precision_recall_curve, average_precision_score, classification_report\n",
    "import matplotlib\n",
    "import matplotlib.pyplot as plt\n",
    "%matplotlib inline"
   ]
  },
  {
   "cell_type": "code",
   "execution_count": 2,
   "metadata": {},
   "outputs": [],
   "source": [
    "# score is not really an id, just ignored in this stage\n",
    "IDS = ['device_id', 'user_id', 'mobileuid', 'subid', 'source_dfx_id', 'deviceId', 'score']\n",
    "DEVICE_CAT = ['carrier_name', 'device_model', 'device_model_name', 'device_vendor']\n",
    "DEVICE_NUM = ['device_os_type']\n",
    "DGX_CAT = ['nameprefix', 'state', 'dwelling_type', 'professionalrollup']\n",
    "DGX_NUM = ['age_range', 'income_range_vds', 'gender', 'marital_status',\n",
    "           'home_ownership', 'length_of_residence', 'presence_of_children', 'home_value_range',\n",
    "           'networthindicator_rollup', 'level_of_education', 'head_of_household',\n",
    "           'mail_public_responder_indicator', 'mail_responsive_buyer_indicator', 'wealth_decile',\n",
    "           'homeandlandvalue', 'first_mortgage_amount', 'active_fitness_interest', 'golf_interest',\n",
    "           'traveler', 'green_advocate', 'premover']\n",
    "RESPONSE = 'photography_interest'"
   ]
  },
  {
   "cell_type": "code",
   "execution_count": 3,
   "metadata": {},
   "outputs": [],
   "source": [
    "X_train = pd.read_csv('/Users/oleg/work/segments/X_train.csv.gz', index_col='device_id', low_memory=False)\n",
    "X_test = pd.read_csv('/Users/oleg/work/segments/X_test.csv.gz', index_col='device_id', low_memory=False)"
   ]
  },
  {
   "cell_type": "code",
   "execution_count": 4,
   "metadata": {},
   "outputs": [
    {
     "name": "stdout",
     "output_type": "stream",
     "text": [
      "number of apps: 5210\n"
     ]
    }
   ],
   "source": [
    "not_app_columns = IDS + DEVICE_CAT + DEVICE_NUM + DGX_CAT + DGX_NUM + [RESPONSE]\n",
    "apps = [c for c in X_train.columns if c not in not_app_columns]\n",
    "print('number of apps: {}'.format(len(apps)))"
   ]
  },
  {
   "cell_type": "code",
   "execution_count": 5,
   "metadata": {
    "scrolled": true
   },
   "outputs": [
    {
     "name": "stdout",
     "output_type": "stream",
     "text": [
      "number of device models in train set: 285\n"
     ]
    }
   ],
   "source": [
    "device_models = X_train['device_model']\n",
    "X_train = pd.get_dummies(X_train, columns=['device_model'], prefix='', prefix_sep='')\n",
    "X_train = pd.concat([X_train, device_models], axis=1)\n",
    "device_models = device_models.unique()\n",
    "print('number of device models in train set: {}'.format(len(device_models)))\n",
    "device_models_test = X_test['device_model']\n",
    "X_test = pd.get_dummies(X_test, columns=['device_model'], prefix='', prefix_sep='')\n",
    "X_test = pd.concat([X_test, device_models_test], axis=1)"
   ]
  },
  {
   "cell_type": "code",
   "execution_count": 6,
   "metadata": {
    "scrolled": true
   },
   "outputs": [
    {
     "name": "stdout",
     "output_type": "stream",
     "text": [
      "number of devices in train: 14563\n",
      "number of devices in test: 3641\n"
     ]
    }
   ],
   "source": [
    "print('number of devices in train: {}'.format(X_train.shape[0]))\n",
    "print('number of devices in test: {}'.format(X_test.shape[0]))"
   ]
  },
  {
   "cell_type": "code",
   "execution_count": 7,
   "metadata": {},
   "outputs": [
    {
     "data": {
      "text/plain": [
       "0.0    0.849619\n",
       "1.0    0.150381\n",
       "Name: photography_interest, dtype: float64"
      ]
     },
     "execution_count": 7,
     "metadata": {},
     "output_type": "execute_result"
    }
   ],
   "source": [
    "X_train[RESPONSE].value_counts(normalize=True)"
   ]
  },
  {
   "cell_type": "code",
   "execution_count": 8,
   "metadata": {},
   "outputs": [
    {
     "data": {
      "text/plain": [
       "carrier_name  photography_interest\n",
       "sprint        0.0                     0.877097\n",
       "              1.0                     0.122903\n",
       "verizon       0.0                     0.784273\n",
       "              1.0                     0.215727\n",
       "Name: photography_interest, dtype: float64"
      ]
     },
     "execution_count": 8,
     "metadata": {},
     "output_type": "execute_result"
    }
   ],
   "source": [
    "X_train.groupby('carrier_name')[RESPONSE].value_counts(normalize=True)"
   ]
  },
  {
   "cell_type": "code",
   "execution_count": 9,
   "metadata": {},
   "outputs": [
    {
     "data": {
      "text/plain": [
       "sm-n950u      0.132322\n",
       "sm-g955u      0.102657\n",
       "sm-g965u      0.087070\n",
       "sm-g930p      0.067843\n",
       "sm-g950u      0.054110\n",
       "sm-g960u      0.048960\n",
       "sm-g935p      0.041750\n",
       "sm-g920p      0.023416\n",
       "moto e (4)    0.021630\n",
       "moto z (2)    0.021493\n",
       "lg-ls998      0.019913\n",
       "pixel 2 xl    0.018471\n",
       "sm-g930v      0.018059\n",
       "sm-n920p      0.017716\n",
       "lg-ls993      0.014626\n",
       "xt1650        0.012909\n",
       "sm-g935v      0.011055\n",
       "lg-lk460      0.010987\n",
       "sm-j327p      0.010712\n",
       "lg-ls997      0.010643\n",
       "Name: device_model, dtype: float64"
      ]
     },
     "execution_count": 9,
     "metadata": {},
     "output_type": "execute_result"
    }
   ],
   "source": [
    "X_train['device_model'].value_counts(normalize=True).head(20)"
   ]
  },
  {
   "cell_type": "code",
   "execution_count": 10,
   "metadata": {},
   "outputs": [
    {
     "data": {
      "text/plain": [
       "Text(0.5,0,'users per app')"
      ]
     },
     "execution_count": 10,
     "metadata": {},
     "output_type": "execute_result"
    },
    {
     "data": {
      "image/png": "[encoded data removed]",
      "text/plain": [
       "<matplotlib.figure.Figure at 0x1141829e8>"
      ]
     },
     "metadata": {},
     "output_type": "display_data"
    }
   ],
   "source": [
    "ax = X_train[apps].sum().hist(bins=100, figsize=(10,5))\n",
    "ax.set_xlabel('users per app', fontsize=20)"
   ]
  },
  {
   "cell_type": "code",
   "execution_count": 11,
   "metadata": {},
   "outputs": [
    {
     "data": {
      "text/plain": [
       "count     5210.000000\n",
       "mean       131.172169\n",
       "std        582.154315\n",
       "min          4.000000\n",
       "25%         13.000000\n",
       "50%         21.000000\n",
       "75%         53.000000\n",
       "max      10258.000000\n",
       "dtype: float64"
      ]
     },
     "execution_count": 11,
     "metadata": {},
     "output_type": "execute_result"
    }
   ],
   "source": [
    "X_train[apps].sum().describe()"
   ]
  },
  {
   "cell_type": "code",
   "execution_count": 12,
   "metadata": {},
   "outputs": [
    {
     "data": {
      "text/plain": [
       "com.asurion.home.sprint                      10258\n",
       "com.sprint.care                               8945\n",
       "com.google.android.instantapps.supervisor     8499\n",
       "com.sec.android.easymover                     7975\n",
       "com.ubercab                                   7539\n",
       "com.pinsight.dw                               7237\n",
       "com.google.android.apps.tachyon               6761\n",
       "com.google.android.apps.photos                6740\n",
       "com.hyperlync.sprint.backup                   6692\n",
       "com.hyperlync.sprint.cloudbinder              6649\n",
       "com.pinsight.v1                               6542\n",
       "com.mobolize.sprint.securewifi                6479\n",
       "com.sprint.international.message              6333\n",
       "com.google.android.apps.docs                  6269\n",
       "com.sec.android.app.popupcalculator           6223\n",
       "com.google.android.music                      6011\n",
       "com.sprint.fng                                5991\n",
       "com.google.android.videos                     5987\n",
       "com.samsung.android.app.watchmanager          5915\n",
       "com.sec.android.app.shealth                   5838\n",
       "dtype: int64"
      ]
     },
     "execution_count": 12,
     "metadata": {},
     "output_type": "execute_result"
    }
   ],
   "source": [
    "X_train[apps].sum().sort_values(ascending=False).head(20)"
   ]
  },
  {
   "cell_type": "code",
   "execution_count": 13,
   "metadata": {},
   "outputs": [],
   "source": [
    "def get_top_by_property(df, column, min_occurrence, top_cutoff):\n",
    "    property_counts = df[column].value_counts()\n",
    "    stack_apps_by_property = df.set_index(column).stack().reset_index()\n",
    "    # number of devices that have an app installed, by device property and app\n",
    "    property_apps = stack_apps_by_property[stack_apps_by_property[0] == 1] \\\n",
    "        .groupby(column)['level_1'].value_counts()\n",
    "    normalized_model_app = property_apps.divide(property_counts, level=column)\n",
    "\n",
    "    top_property_counts = \\\n",
    "        normalized_model_app[property_counts[property_counts > min_occurrence].index.tolist()]\n",
    "    return top_property_counts[top_property_counts > top_cutoff]"
   ]
  },
  {
   "cell_type": "code",
   "execution_count": 14,
   "metadata": {
    "scrolled": false
   },
   "outputs": [
    {
     "name": "stdout",
     "output_type": "stream",
     "text": [
      "carrier_name pre installed apps:\n",
      "carrier_name  level_1                       \n",
      "sprint        com.asurion.home.sprint           1.000000\n",
      "verizon       com.asurion.solutohome.verizon    0.999072\n",
      "device_model pre installed apps:\n",
      "device_model  level_1                                  \n",
      "lg-lk460      com.asurion.home.sprint                      1.000000\n",
      "              com.hyperlync.sprint.backup                  0.943750\n",
      "              com.mobolize.sprint.securewifi               0.943750\n",
      "              com.sprint.fng                               0.931250\n",
      "              com.hyperlync.sprint.cloudbinder             0.906250\n",
      "lg-ls993      com.asurion.home.sprint                      1.000000\n",
      "              com.google.android.instantapps.supervisor    0.971831\n",
      "              com.sprint.w.v8                              0.920188\n",
      "lg-ls997      com.asurion.home.sprint                      1.000000\n",
      "              com.google.android.instantapps.supervisor    0.987097\n",
      "              com.sprint.care                              0.909677\n",
      "lg-ls998      com.asurion.home.sprint                      1.000000\n",
      "              com.sprint.care                              0.989655\n",
      "              com.ironsource.appcloud.oobe                 0.920690\n",
      "moto e (4)    com.asurion.home.sprint                      0.987302\n",
      "              com.google.android.instantapps.supervisor    0.933333\n",
      "              com.sprint.international.message             0.901587\n",
      "pixel 2       com.asurion.solutohome.verizon               1.000000\n",
      "              com.google.android.apps.docs.editors.docs    0.952381\n",
      "              com.google.android.apps.tachyon              0.938776\n",
      "              com.google.android.apps.walletnfcrel         0.938776\n",
      "              com.google.android.keep                      0.931973\n",
      "              com.google.android.vr.inputmethod            0.925170\n",
      "              com.vzw.hss.myverizon                        0.918367\n",
      "              com.google.android.apps.youtube.vr           0.904762\n",
      "              com.google.android.vr.home                   0.904762\n",
      "pixel 2 xl    com.asurion.solutohome.verizon               0.985130\n",
      "              com.google.android.apps.docs.editors.docs    0.951673\n",
      "              com.vzw.hss.myverizon                        0.933086\n",
      "              com.google.android.apps.tachyon              0.929368\n",
      "              com.google.android.keep                      0.925651\n",
      "              com.google.android.apps.walletnfcrel         0.910781\n",
      "              com.google.android.apps.youtube.vr           0.910781\n",
      "              com.google.android.vr.inputmethod            0.907063\n",
      "sm-g892u      com.asurion.home.sprint                      1.000000\n",
      "              com.samsung.android.app.notes                0.991935\n",
      "              com.google.android.apps.docs                 0.983871\n",
      "              com.google.android.apps.photos               0.983871\n",
      "              com.sec.android.app.popupcalculator          0.975806\n",
      "              com.sprint.fng                               0.975806\n",
      "              com.hyperlync.sprint.backup                  0.967742\n",
      "              com.hyperlync.sprint.cloudbinder             0.967742\n",
      "              com.sec.android.easymover                    0.967742\n",
      "              com.google.android.videos                    0.959677\n",
      "              com.samsung.oh                               0.959677\n",
      "              com.sprint.international.message             0.959677\n",
      "              com.google.android.music                     0.951613\n",
      "              com.sprint.care                              0.951613\n",
      "              com.mobolize.sprint.securewifi               0.943548\n",
      "              com.amazon.clouddrive.photos                 0.927419\n",
      "              com.google.android.apps.tachyon              0.927419\n",
      "              com.pinsight.dw                              0.927419\n",
      "              com.samsung.android.app.watchmanager         0.927419\n",
      "              com.sec.android.app.shealth                  0.919355\n",
      "              com.audible.application                      0.911290\n",
      "              com.ironsource.appcloud.oobe                 0.911290\n",
      "              com.amazon.mp3                               0.903226\n",
      "sm-g900p      com.asurion.home.sprint                      1.000000\n",
      "sm-g920p      com.asurion.home.sprint                      1.000000\n",
      "              com.sprint.care                              0.941349\n",
      "              com.google.android.instantapps.supervisor    0.935484\n",
      "sm-g930p      com.asurion.home.sprint                      1.000000\n",
      "              com.google.android.instantapps.supervisor    0.985830\n",
      "              com.sprint.care                              0.925101\n",
      "              com.sec.sprint.wfcstub                       0.905870\n",
      "              com.sec.android.easymover                    0.904858\n",
      "sm-g930v      com.asurion.solutohome.verizon               0.977186\n",
      "              com.google.android.instantapps.supervisor    0.969582\n",
      "sm-g935p      com.asurion.home.sprint                      1.000000\n",
      "              com.google.android.instantapps.supervisor    0.978618\n",
      "sm-g935v      com.google.android.instantapps.supervisor    0.962733\n",
      "              com.asurion.solutohome.verizon               0.956522\n",
      "sm-g950u      com.google.android.apps.docs                 0.963198\n",
      "              com.sec.android.app.popupcalculator          0.960660\n",
      "              com.google.android.apps.photos               0.959391\n",
      "              com.samsung.android.app.notes                0.930203\n",
      "              com.sec.android.easymover                    0.907360\n",
      "              com.google.android.music                     0.906091\n",
      "              com.google.android.videos                    0.904822\n",
      "sm-g955u      com.google.android.apps.photos               0.970569\n",
      "              com.sec.android.app.popupcalculator          0.967893\n",
      "              com.google.android.apps.docs                 0.965217\n",
      "              com.samsung.android.app.notes                0.938462\n",
      "              com.sec.android.easymover                    0.936455\n",
      "              com.google.android.music                     0.915719\n",
      "              com.google.android.videos                    0.911037\n",
      "              com.google.android.apps.tachyon              0.909030\n",
      "sm-g960u      com.sec.android.app.popupcalculator          0.988780\n",
      "              com.samsung.android.app.notes                0.987377\n",
      "              com.google.android.apps.docs                 0.985975\n",
      "              com.google.android.apps.photos               0.983170\n",
      "              com.sec.android.easymover                    0.971950\n",
      "              com.google.android.apps.tachyon              0.967742\n",
      "              com.google.android.videos                    0.966339\n",
      "              com.google.android.music                     0.964937\n",
      "              com.samsung.android.app.watchmanager         0.952314\n",
      "              com.sec.android.app.shealth                  0.948107\n",
      "              com.samsung.android.oneconnect               0.938289\n",
      "              com.samsung.android.spay                     0.932679\n",
      "sm-g965u      com.google.android.apps.photos               0.988959\n",
      "              com.google.android.apps.docs                 0.988170\n",
      "              com.sec.android.app.popupcalculator          0.987382\n",
      "              com.samsung.android.app.notes                0.974763\n",
      "              com.sec.android.easymover                    0.971609\n",
      "              com.google.android.apps.tachyon              0.965300\n",
      "              com.google.android.videos                    0.955836\n",
      "              com.google.android.music                     0.952681\n",
      "              com.samsung.android.oneconnect               0.948738\n",
      "              com.samsung.android.spay                     0.947161\n",
      "              com.samsung.android.app.watchmanager         0.941640\n",
      "              com.sec.android.app.shealth                  0.931388\n",
      "              com.google.android.apps.walletnfcrel         0.912461\n",
      "sm-j327p      com.asurion.home.sprint                      0.993590\n",
      "              com.google.android.instantapps.supervisor    0.942308\n",
      "sm-j327v      com.asurion.solutohome.verizon               1.000000\n",
      "              com.google.android.instantapps.supervisor    0.960784\n",
      "              com.ebay.carrier                             0.911765\n",
      "sm-j727p      com.asurion.home.sprint                      1.000000\n",
      "              com.google.android.instantapps.supervisor    0.982143\n",
      "              com.sprint.care                              0.946429\n",
      "              com.sprint.fng                               0.919643\n",
      "              com.sprint.w.v8                              0.901786\n",
      "sm-j727v      com.asurion.solutohome.verizon               0.992806\n",
      "              com.google.android.instantapps.supervisor    0.928058\n",
      "sm-n920p      com.asurion.home.sprint                      0.996124\n",
      "              com.sprint.care                              0.961240\n",
      "              com.google.android.instantapps.supervisor    0.949612\n",
      "sm-n950u      com.sec.android.app.popupcalculator          0.985470\n",
      "              com.google.android.apps.photos               0.982875\n",
      "              com.google.android.apps.docs                 0.978723\n",
      "              com.google.android.music                     0.943435\n",
      "              com.samsung.android.oneconnect               0.942398\n",
      "              com.sec.android.easymover                    0.941879\n",
      "              com.google.android.videos                    0.933057\n",
      "              com.google.android.apps.tachyon              0.927348\n",
      "              com.sec.android.app.shealth                  0.921640\n",
      "              com.samsung.android.app.watchmanager         0.914375\n",
      "              com.sec.penup                                0.910223\n",
      "              com.samsung.android.spay                     0.903477\n",
      "xt1585        com.asurion.solutohome.verizon               0.990566\n",
      "              com.google.android.instantapps.supervisor    0.952830\n",
      "xt1650        com.asurion.solutohome.verizon               0.989362\n",
      "              com.google.android.instantapps.supervisor    0.909574\n",
      "xt1710-02     com.asurion.solutohome.verizon               1.000000\n"
     ]
    },
    {
     "name": "stdout",
     "output_type": "stream",
     "text": [
      "device_vendor pre installed apps:\n",
      "device_vendor  level_1                                  \n",
      "google         com.asurion.solutohome.verizon               0.984906\n",
      "               com.google.android.apps.docs.editors.docs    0.922642\n"
     ]
    }
   ],
   "source": [
    "pre_installed = {}\n",
    "for property in ['carrier_name', 'device_model', 'device_vendor']:\n",
    "    pre_installed_apps = get_top_by_property(X_train[[property] + apps], property, 100, 0.9)\n",
    "    pre_installed[property] = pre_installed_apps\n",
    "    print('{property} pre installed apps:\\n{apps}'.format(\n",
    "        property=property, apps=pre_installed_apps.to_string()))"
   ]
  },
  {
   "cell_type": "code",
   "execution_count": 15,
   "metadata": {},
   "outputs": [
    {
     "data": {
      "text/plain": [
       "Text(0.5,0,'apps per user')"
      ]
     },
     "execution_count": 15,
     "metadata": {},
     "output_type": "execute_result"
    },
    {
     "data": {
      "image/png": "[encoded data removed]",
      "text/plain": [
       "<matplotlib.figure.Figure at 0x115c871d0>"
      ]
     },
     "metadata": {},
     "output_type": "display_data"
    }
   ],
   "source": [
    "ax = X_train[apps].sum(axis=1).hist(bins=100, figsize=(10,5))\n",
    "ax.set_xlabel('apps per user', fontsize=20)"
   ]
  },
  {
   "cell_type": "code",
   "execution_count": 16,
   "metadata": {},
   "outputs": [
    {
     "data": {
      "text/plain": [
       "count    14563.000000\n",
       "mean        46.927625\n",
       "std         29.225959\n",
       "min          1.000000\n",
       "25%         24.000000\n",
       "50%         42.000000\n",
       "75%         63.000000\n",
       "max        182.000000\n",
       "dtype: float64"
      ]
     },
     "execution_count": 16,
     "metadata": {},
     "output_type": "execute_result"
    }
   ],
   "source": [
    "X_train[apps].sum(axis=1).describe()"
   ]
  },
  {
   "cell_type": "code",
   "execution_count": 17,
   "metadata": {},
   "outputs": [],
   "source": [
    "def filter_low_var_columns(df, threshold):\n",
    "    low_var = VarianceThreshold(threshold=threshold).fit(df)\n",
    "    return df.columns[low_var.get_support()]"
   ]
  },
  {
   "cell_type": "code",
   "execution_count": 18,
   "metadata": {},
   "outputs": [],
   "source": [
    "model_df = X_train.copy()\n",
    "model_df_test = X_test.copy()\n",
    "for property in ['carrier_name', 'device_model', 'device_vendor']:\n",
    "    for p, apps_replace in pre_installed[property].groupby(level=0):\n",
    "        apps_replace_list = apps_replace.index.get_level_values('level_1').tolist()\n",
    "        model_df.loc[model_df[property] == p, apps_replace_list] = 0\n",
    "        model_df_test.loc[model_df_test[property] == p, apps_replace_list] = 0\n",
    "filtered_models = filter_low_var_columns(model_df[device_models], 0.0099)\n",
    "features = np.append(filtered_models, apps)\n",
    "model_df = model_df[features]\n",
    "response = X_train[RESPONSE]"
   ]
  },
  {
   "cell_type": "code",
   "execution_count": 19,
   "metadata": {},
   "outputs": [
    {
     "data": {
      "text/plain": [
       "Text(0.5,0,'users per app - after canceling pre installed apps')"
      ]
     },
     "execution_count": 19,
     "metadata": {},
     "output_type": "execute_result"
    },
    {
     "data": {
      "image/png": "[encoded data removed]",
      "text/plain": [
       "<matplotlib.figure.Figure at 0x114360f98>"
      ]
     },
     "metadata": {},
     "output_type": "display_data"
    }
   ],
   "source": [
    "ax = model_df[apps].sum().hist(bins=100, figsize=(10,5))\n",
    "ax.set_xlabel('users per app - after canceling pre installed apps', fontsize=20)"
   ]
  },
  {
   "cell_type": "code",
   "execution_count": 20,
   "metadata": {},
   "outputs": [
    {
     "data": {
      "text/plain": [
       "count    5210.000000\n",
       "mean      113.577159\n",
       "std       461.205017\n",
       "min         4.000000\n",
       "25%        13.000000\n",
       "50%        21.000000\n",
       "75%        53.000000\n",
       "max      7539.000000\n",
       "dtype: float64"
      ]
     },
     "execution_count": 20,
     "metadata": {},
     "output_type": "execute_result"
    }
   ],
   "source": [
    "model_df[apps].sum().describe()"
   ]
  },
  {
   "cell_type": "code",
   "execution_count": 21,
   "metadata": {},
   "outputs": [
    {
     "data": {
      "text/plain": [
       "com.ubercab                                  7539\n",
       "com.pinsight.dw                              7122\n",
       "com.sprint.care                              6810\n",
       "com.pinsight.v1                              6542\n",
       "com.hyperlync.sprint.backup                  6421\n",
       "com.hyperlync.sprint.cloudbinder             6384\n",
       "com.mobolize.sprint.securewifi               6211\n",
       "com.sprint.international.message             5930\n",
       "com.sprint.fng                               5618\n",
       "com.pandora.android                          5449\n",
       "com.google.android.play.games                5318\n",
       "com.hulu.plus                                5187\n",
       "com.samsung.oh                               4724\n",
       "com.snapchat.android                         4682\n",
       "com.netflix.mediaclient                      4667\n",
       "com.nextradioapp.nextradio                   4650\n",
       "com.google.android.instantapps.supervisor    4546\n",
       "com.mobitv.client.sprinttvng                 4407\n",
       "com.amazon.mp3                               4384\n",
       "com.yahoo.mobile.client.android.mail         4375\n",
       "dtype: int64"
      ]
     },
     "execution_count": 21,
     "metadata": {},
     "output_type": "execute_result"
    }
   ],
   "source": [
    "model_df[apps].sum().sort_values(ascending=False).head(20)"
   ]
  },
  {
   "cell_type": "code",
   "execution_count": 22,
   "metadata": {},
   "outputs": [
    {
     "data": {
      "text/plain": [
       "Text(0.5,0,'apps per user - after canceling pre installed apps')"
      ]
     },
     "execution_count": 22,
     "metadata": {},
     "output_type": "execute_result"
    },
    {
     "data": {
      "image/png": "[encoded data removed]",
      "text/plain": [
       "<matplotlib.figure.Figure at 0x114d98400>"
      ]
     },
     "metadata": {},
     "output_type": "display_data"
    }
   ],
   "source": [
    "ax = model_df[apps].sum(axis=1).hist(bins=100, figsize=(10,5))\n",
    "ax.set_xlabel('apps per user - after canceling pre installed apps', fontsize=20)"
   ]
  },
  {
   "cell_type": "code",
   "execution_count": 23,
   "metadata": {},
   "outputs": [
    {
     "data": {
      "text/plain": [
       "count    14563.000000\n",
       "mean        40.632905\n",
       "std         26.827845\n",
       "min          0.000000\n",
       "25%         21.000000\n",
       "50%         35.000000\n",
       "75%         55.000000\n",
       "max        170.000000\n",
       "dtype: float64"
      ]
     },
     "execution_count": 23,
     "metadata": {},
     "output_type": "execute_result"
    }
   ],
   "source": [
    "model_df[apps].sum(axis=1).describe()"
   ]
  },
  {
   "cell_type": "code",
   "execution_count": 24,
   "metadata": {},
   "outputs": [
    {
     "name": "stdout",
     "output_type": "stream",
     "text": [
      "all zero rows: 21\n",
      "all zero columns: 0\n"
     ]
    }
   ],
   "source": [
    "print('all zero rows: {}'.format((model_df.sum(axis=1) == 0).sum()))\n",
    "print('all zero columns: {}'.format((model_df.sum() == 0).sum()))"
   ]
  },
  {
   "cell_type": "code",
   "execution_count": 25,
   "metadata": {},
   "outputs": [],
   "source": [
    "min_c = l1_min_c(model_df, response, loss='log')\n",
    "tuned_parameters = {'C': np.log10(np.logspace(min_c, min_c * 5000, 50))}"
   ]
  },
  {
   "cell_type": "code",
   "execution_count": 26,
   "metadata": {},
   "outputs": [
    {
     "data": {
      "text/plain": [
       "{'C': array([1.96405774e-04, 2.02338030e-02, 4.02712003e-02, 6.03085976e-02,\n",
       "        8.03459948e-02, 1.00383392e-01, 1.20420789e-01, 1.40458187e-01,\n",
       "        1.60495584e-01, 1.80532981e-01, 2.00570378e-01, 2.20607776e-01,\n",
       "        2.40645173e-01, 2.60682570e-01, 2.80719967e-01, 3.00757365e-01,\n",
       "        3.20794762e-01, 3.40832159e-01, 3.60869557e-01, 3.80906954e-01,\n",
       "        4.00944351e-01, 4.20981748e-01, 4.41019146e-01, 4.61056543e-01,\n",
       "        4.81093940e-01, 5.01131337e-01, 5.21168735e-01, 5.41206132e-01,\n",
       "        5.61243529e-01, 5.81280926e-01, 6.01318324e-01, 6.21355721e-01,\n",
       "        6.41393118e-01, 6.61430515e-01, 6.81467913e-01, 7.01505310e-01,\n",
       "        7.21542707e-01, 7.41580104e-01, 7.61617502e-01, 7.81654899e-01,\n",
       "        8.01692296e-01, 8.21729694e-01, 8.41767091e-01, 8.61804488e-01,\n",
       "        8.81841885e-01, 9.01879283e-01, 9.21916680e-01, 9.41954077e-01,\n",
       "        9.61991474e-01, 9.82028872e-01])}"
      ]
     },
     "execution_count": 26,
     "metadata": {},
     "output_type": "execute_result"
    }
   ],
   "source": [
    "tuned_parameters"
   ]
  },
  {
   "cell_type": "code",
   "execution_count": 27,
   "metadata": {},
   "outputs": [
    {
     "data": {
      "text/plain": [
       "GridSearchCV(cv=4, error_score='raise',\n",
       "       estimator=LogisticRegression(C=1.0, class_weight=None, dual=False, fit_intercept=True,\n",
       "          intercept_scaling=1, max_iter=100, multi_class='ovr', n_jobs=1,\n",
       "          penalty='l1', random_state=100, solver='liblinear', tol=0.0001,\n",
       "          verbose=0, warm_start=False),\n",
       "       fit_params=None, iid=True, n_jobs=1,\n",
       "       param_grid={'C': array([1.96406e-04, 2.02338e-02, 4.02712e-02, 6.03086e-02, 8.03460e-02,\n",
       "       1.00383e-01, 1.20421e-01, 1.40458e-01, 1.60496e-01, 1.80533e-01,\n",
       "       2.00570e-01, 2.20608e-01, 2.40645e-01, 2.60683e-01, 2.80720e-01,\n",
       "       3.00757e-01, 3.20795e-01, 3.40832e-01, 3.60870e-01, 3.80907e... 8.61804e-01, 8.81842e-01,\n",
       "       9.01879e-01, 9.21917e-01, 9.41954e-01, 9.61991e-01, 9.82029e-01])},\n",
       "       pre_dispatch='2*n_jobs', refit='average_precision',\n",
       "       return_train_score=True,\n",
       "       scoring=('neg_log_loss', 'average_precision'), verbose=0)"
      ]
     },
     "execution_count": 27,
     "metadata": {},
     "output_type": "execute_result"
    }
   ],
   "source": [
    "clf = GridSearchCV(LogisticRegression(penalty='l1', random_state=100),\n",
    "                   tuned_parameters, cv=4, scoring=('neg_log_loss', 'average_precision'),\n",
    "                   return_train_score=True, refit='average_precision')\n",
    "clf.fit(model_df, response)"
   ]
  },
  {
   "cell_type": "code",
   "execution_count": 28,
   "metadata": {},
   "outputs": [
    {
     "name": "stdout",
     "output_type": "stream",
     "text": [
      "mean CV average precision: 0.24799924615113864\n",
      "best param: {'C': 0.14045818661354356}\n",
      "best param index: 7\n",
      "CV average precision: [0.24557577485866164, 0.2773405753150586, 0.24165153870090206, 0.22742236650285003]\n"
     ]
    }
   ],
   "source": [
    "print('mean CV average precision: {}'.format(clf.best_score_))\n",
    "print('best param: {}'.format(clf.best_params_))\n",
    "print('best param index: {}'.format(clf.best_index_))\n",
    "print('CV average precision: {}'.format(\n",
    "    [clf.cv_results_['split0_test_average_precision'][clf.best_index_],\n",
    "     clf.cv_results_['split1_test_average_precision'][clf.best_index_],\n",
    "     clf.cv_results_['split2_test_average_precision'][clf.best_index_],\n",
    "     clf.cv_results_['split3_test_average_precision'][clf.best_index_]]))"
   ]
  },
  {
   "cell_type": "code",
   "execution_count": 29,
   "metadata": {
    "scrolled": false
   },
   "outputs": [
    {
     "name": "stdout",
     "output_type": "stream",
     "text": [
      "mean train score:\n",
      "[0.1503811  0.21424371 0.23450922 0.25505355 0.27297106 0.28451333\n",
      " 0.29436145 0.30435158 0.31463753 0.32506878 0.33632722 0.34794306\n",
      " 0.36001391 0.37225415 0.38469275 0.39690596 0.40978011 0.42236361\n",
      " 0.43444661 0.44659522 0.45868243 0.47052047 0.4820426  0.49345142\n",
      " 0.50447489 0.51537043 0.52599678 0.53617096 0.54614832 0.55588018\n",
      " 0.56530602 0.5745253  0.5835876  0.59231367 0.60058436 0.60863962\n",
      " 0.61650619 0.62414244 0.63138596 0.63850881 0.6454788  0.65222856\n",
      " 0.65875636 0.66510969 0.67124266 0.67719959 0.68305003 0.68862327\n",
      " 0.69405585 0.69932826]\n",
      "mean test score:\n",
      "[0.1503811  0.20700846 0.21825307 0.23111424 0.24223144 0.24578023\n",
      " 0.24724036 0.24799925 0.24792394 0.24730092 0.24685092 0.24569494\n",
      " 0.2442353  0.24263953 0.24138487 0.24019169 0.23852647 0.23694494\n",
      " 0.2352918  0.23364098 0.23227722 0.23087636 0.2297776  0.22893259\n",
      " 0.22838684 0.22750636 0.22692245 0.22645877 0.22606641 0.22557221\n",
      " 0.22479488 0.22380537 0.22318805 0.22260411 0.22197366 0.22140763\n",
      " 0.22068664 0.2202557  0.21979551 0.21929067 0.21874861 0.21832798\n",
      " 0.21780948 0.21745654 0.2169639  0.21623961 0.21575191 0.21527068\n",
      " 0.21474894 0.21410316]\n"
     ]
    }
   ],
   "source": [
    "print('mean train score:\\n{}'.format(clf.cv_results_['mean_train_average_precision']))\n",
    "print('mean test score:\\n{}'.format(clf.cv_results_['mean_test_average_precision']))"
   ]
  },
  {
   "cell_type": "code",
   "execution_count": 39,
   "metadata": {},
   "outputs": [
    {
     "data": {
      "text/plain": [
       "<matplotlib.legend.Legend at 0x116183f98>"
      ]
     },
     "execution_count": 39,
     "metadata": {},
     "output_type": "execute_result"
    },
    {
     "data": {
      "image/png": "[encoded data removed]",
      "text/plain": [
       "<matplotlib.figure.Figure at 0x114879f28>"
      ]
     },
     "metadata": {},
     "output_type": "display_data"
    }
   ],
   "source": [
    "plt.figure(figsize=(10,7))\n",
    "plt.plot(tuned_parameters['C'], clf.cv_results_['mean_train_average_precision'], label='train')\n",
    "plt.plot(tuned_parameters['C'], clf.cv_results_['mean_test_average_precision'], label='test')\n",
    "plt.title('mean average precision score', fontsize=15)\n",
    "plt.xlabel('C', fontsize=15)\n",
    "plt.ylabel('average precision', fontsize=15)\n",
    "plt.legend(fontsize=15)"
   ]
  },
  {
   "cell_type": "code",
   "execution_count": 30,
   "metadata": {},
   "outputs": [
    {
     "name": "stdout",
     "output_type": "stream",
     "text": [
      "rank test average precision:\n",
      "[50 49 40 18 10  6  4  1  2  3  5  7  8  9 11 12 13 14 15 16 17 19 20 21\n",
      " 22 23 24 25 26 27 28 29 30 31 32 33 34 35 36 37 38 39 41 42 43 44 45 46\n",
      " 47 48]\n",
      "rank test log loss:\n",
      "[50 17 14 10  7  5  3  1  2  4  6  8  9 11 12 13 15 16 18 19 20 21 22 23\n",
      " 24 25 26 27 28 29 30 31 32 33 34 35 36 37 38 39 40 41 42 43 44 45 46 47\n",
      " 48 49]\n"
     ]
    }
   ],
   "source": [
    "print('rank test average precision:\\n{}'.format(clf.cv_results_['rank_test_average_precision']))\n",
    "print('rank test log loss:\\n{}'.format(clf.cv_results_['rank_test_neg_log_loss']))"
   ]
  },
  {
   "cell_type": "code",
   "execution_count": 31,
   "metadata": {},
   "outputs": [
    {
     "name": "stdout",
     "output_type": "stream",
     "text": [
      "model iterations: 13\n"
     ]
    }
   ],
   "source": [
    "model = clf.best_estimator_\n",
    "print('model iterations: {}'.format(model.n_iter_[0]))\n",
    "coefs = pd.DataFrame(list(zip(model_df.columns, model.coef_[0])), columns=['app', 'coef'])"
   ]
  },
  {
   "cell_type": "code",
   "execution_count": 32,
   "metadata": {},
   "outputs": [
    {
     "name": "stdout",
     "output_type": "stream",
     "text": [
      "train features after regularization: 199\n",
      "intercept: -1.596403278452229\n",
      "coefficients:\n",
      "app      coef\n",
      "               com.adguard.android.contentblocker  0.602595\n",
      "                            com.funformobile.main  0.542556\n",
      "           com.passportparking.mobile.parkchicago  0.527467\n",
      "        com.samsung.android.timezone.autoupdate_n  0.509739\n",
      "                       com.ventrachicago.riderapp  0.498298\n",
      "                                       pixel 2 xl  0.364514\n",
      "                            com.intsig.camscanner  0.345598\n",
      "                      com.king.candycrushsodasaga  0.274708\n",
      "                       com.vzw.hs.android.modlite  0.253292\n",
      "                                   com.samsung.oh  0.248469\n",
      "                     org.zwanoo.android.speedtest  0.222087\n",
      "                               com.adobe.psmobile  0.221305\n",
      "                        com.aaa.android.discounts  0.209171\n",
      "                                com.cmplay.tiles2  0.205351\n",
      "com.sec.android.app.camera.shootingmode.rearca...  0.202746\n",
      "                                       wp.wattpad  0.202204\n",
      "                          com.handyapps.tipnsplit  0.200916\n",
      "                               com.adobe.lrmobile  0.192128\n",
      "                                    com.pinterest  0.191946\n",
      "                                         sm-g965u  0.190071\n",
      "                                 com.ebay.carrier  0.189888\n",
      "          com.google.android.apps.googleassistant  0.177689\n",
      "                      com.google.android.apps.adm  0.177599\n",
      "                         com.uhg.mobile.health4me  0.171441\n",
      "                            com.hp.printercontrol  0.169529\n",
      "     com.asurion.android.mediabackup.vault.sprint  0.168646\n",
      "                                  com.sei.android  0.165434\n",
      "                                   com.tencent.ig  0.162734\n",
      "                            us.zoom.videomeetings  0.162295\n",
      "            com.yahoo.mobile.client.android.yahoo  0.162189\n",
      "                       jp.gocro.smartnews.android  0.157565\n",
      "                              com.facebook.katana  0.153510\n",
      "                                         sm-g935p  0.149042\n",
      "                                     com.whatsapp  0.145758\n",
      "                               com.merriamwebster  0.144445\n",
      "                                         sm-g950u  0.137261\n",
      "                            com.contextlogic.wish  0.135626\n",
      "                       com.google.android.vr.home  0.134899\n",
      "                    com.samsung.android.videolist  0.127008\n",
      "                                          gov.irs  0.125739\n",
      "                              com.groupme.android  0.120197\n",
      "                            com.chase.sig.android  0.120005\n",
      "                                com.nim.discovery  0.118264\n",
      "                               com.yummly.android  0.115187\n",
      "                 com.verizontelematics.verizonhum  0.104909\n",
      "                    com.verizon.familybase.parent  0.089416\n",
      "                            com.instagram.android  0.088219\n",
      "                       com.sec.android.app.vefull  0.088137\n",
      "             com.google.android.apps.youtube.kids  0.085942\n",
      "                            com.contextlogic.geek  0.085780\n",
      "                                  com.pinsight.dw  0.084704\n",
      "                   com.surpax.ledflashlight.panel  0.084111\n",
      "                     com.verizon.messaging.vzmsgs  0.083873\n",
      "                                   com.amazon.mp3  0.083378\n",
      "                           com.vizio.vue.launcher  0.083274\n",
      "                  com.chrome.deviceextras.samsung  0.082120\n",
      "                       com.suntrust.mobilebanking  0.077974\n",
      "           com.google.android.apps.photos.scanner  0.075005\n",
      "                                      com.booking  0.071441\n",
      "                com.google.android.apps.translate  0.068303\n",
      "                                com.facebook.orca  0.065265\n",
      "                               com.picsart.studio  0.064709\n",
      "                                         sm-g960u  0.063291\n",
      "                             com.rfi.sams.android  0.060388\n",
      "                  com.mobolize.cachefront.preload  0.059513\n",
      "                            com.samsung.accessory  0.058774\n",
      "                               com.microsoft.emmx  0.057929\n",
      "                                   in.sweatco.app  0.057259\n",
      "                           com.sec.sprint.wfcstub  0.052429\n",
      "   com.sec.android.app.camera.shootingmode.beauty  0.049566\n",
      "                     com.microsoft.office.outlook  0.047030\n",
      "                                com.spotify.music  0.045438\n",
      "                                 com.ubercab.eats  0.044191\n",
      "                                        com.venmo  0.039862\n",
      "                           com.apalon.myclockfree  0.038575\n",
      "                                com.mcdonalds.app  0.036258\n",
      "                           com.creditkarma.mobile  0.035793\n",
      "                            com.cvs.launchers.cvs  0.035188\n",
      "                               com.airbnb.android  0.033494\n",
      "                                         lg-ls998  0.032719\n",
      "                      com.playrix.fishdomdd.gplay  0.030878\n",
      "                       com.nextradioapp.nextradio  0.029899\n",
      "                                 com.serve.mobile  0.028262\n",
      "                               com.att.mywireless  0.023306\n",
      "                              com.weather.samsung  0.022723\n",
      "                                    air.watchespn  0.021862\n",
      "                        com.sec.android.easymover  0.021440\n",
      "                                  com.pinsight.v1  0.020458\n",
      "                       com.camerasideas.instashot  0.020289\n",
      "                           co.happybits.marcopolo  0.016539\n",
      "                                         com.ulta  0.013947\n",
      "                             com.jiubang.go.music  0.013800\n",
      "                          com.streema.simpleradio  0.009997\n",
      "          com.yahoo.mobile.client.android.finance  0.009069\n",
      "                     com.paypal.android.p2pmobile  0.008298\n",
      "                    com.usablenet.mobile.walgreen  0.007684\n",
      "                    com.hoteltonight.android.prod  0.005459\n",
      "                     com.zillow.android.zillowmap  0.004082\n",
      "                     com.playphone.gamestore.loot  0.002430\n",
      "                             net.flixster.android  0.001106\n",
      "                         com.starbucks.mobilecard -0.001158\n",
      "                     com.sprint.mobilediagnostics -0.005192\n",
      "                                 com.psafe.msuite -0.006341\n",
      "                 com.verizonmedia.go90.enterprise -0.008459\n",
      "                        com.microsoft.office.word -0.009390\n",
      "                       com.whaleshark.retailmenot -0.009443\n",
      "                                   com.aa.android -0.009637\n",
      "                             epic.mychart.android -0.010744\n",
      "           com.ss.android.article.topbuzzvideo.en -0.012218\n",
      "                      com.sec.android.app.shealth -0.012539\n",
      "                                    com.tophatter -0.014143\n",
      "                         com.delta.mobile.android -0.016939\n",
      "                         com.excentus.frn.android -0.017848\n",
      "                          com.csnmedia.android.bg -0.018921\n",
      "                        com.sec.android.app.music -0.022460\n",
      "                                    flipboard.app -0.022483\n",
      "                   com.google.android.apps.photos -0.024492\n",
      "        com.google.android.apps.genie.geniewidget -0.027658\n",
      "goldenshorestechnologies.brightestflashlight.free -0.031547\n",
      "                                 com.yelp.android -0.032006\n",
      "                      com.microsoft.office.lync15 -0.037002\n",
      "                         com.mapquest.android.ace -0.037048\n",
      "                          com.wf.wellsfargomobile -0.037609\n",
      "             com.yahoo.mobile.client.android.mail -0.038298\n",
      "                                  com.sprint.w.v8 -0.039069\n",
      "                                       com.goodrx -0.041952\n",
      "                                  com.imdb.mobile -0.042665\n",
      "                                 com.zynga.words3 -0.042671\n",
      "                              com.pandora.android -0.042814\n",
      "                                      kik.android -0.043826\n",
      "                                   com.hbo.hbonow -0.045938\n",
      "           com.google.android.apps.chromecast.app -0.047136\n",
      "                     com.samsung.android.app.news -0.047244\n",
      "                                com.amazon.kindle -0.049131\n",
      "                            com.samsung.mdl.radio -0.053369\n",
      "                      com.tripadvisor.tripadvisor -0.056413\n",
      "                   com.life360.android.safetymapd -0.058784\n",
      "                                   gbis.gbandroid -0.062181\n",
      "                                       moto z (2) -0.063663\n",
      "                                  com.paypal.here -0.064679\n",
      "                             com.snapchat.android -0.065140\n",
      "                             com.hp.android.print -0.072454\n",
      "                          com.playphone.gamestore -0.075749\n",
      "                         com.myfitnesspal.android -0.075785\n",
      "                     com.ironsource.appcloud.oobe -0.078737\n",
      "                      com.hyperlync.sprint.backup -0.078871\n",
      "                     com.southwestairlines.mobile -0.079485\n",
      "                               com.amazon.dee.app -0.079639\n",
      "                           com.facebook.pages.app -0.082239\n",
      "                                com.slacker.radio -0.085789\n",
      "                   com.mobolize.sprint.securewifi -0.086084\n",
      "      com.google.android.apps.docs.editors.slides -0.087447\n",
      "                                         sm-g955u -0.091262\n",
      "                      com.hp.android.printservice -0.092177\n",
      "                           com.vcast.mediamanager -0.095300\n",
      "                      com.verizon.contenttransfer -0.095520\n",
      "                     com.amazon.clouddrive.photos -0.096465\n",
      "                     com.indeed.android.jobsearch -0.096997\n",
      "                                  com.tdo.showbox -0.102338\n",
      "                       com.microsoft.office.excel -0.107156\n",
      "                    com.google.android.play.games -0.109929\n",
      "                                  com.ebay.mobile -0.110779\n",
      "                                 com.geico.mobile -0.112946\n",
      "                                         sm-n950u -0.114681\n",
      "                             com.playrix.township -0.119808\n",
      "                  com.sec.app.samsungprintservice -0.125504\n",
      "                   com.gotv.nflgamecenter.us.lite -0.129033\n",
      "                                         com.waze -0.129573\n",
      "                                    org.xbmc.kodi -0.130435\n",
      "                                     com.fandango -0.133460\n",
      "                   com.westernunion.android.mtapp -0.133687\n",
      "       air.com.goodgamestudios.empirefourkingdoms -0.136922\n",
      "                   com.locationlabs.finder.sprint -0.146236\n",
      "                      com.acmeaom.android.myradar -0.156663\n",
      "                                 com.poshmark.app -0.163184\n",
      "                             com.propel.ebenefits -0.168297\n",
      "                                 com.dominospizza -0.171237\n",
      "                   com.sirma.mobile.bible.android -0.178943\n",
      "                             com.linkedin.android -0.188004\n",
      "                 com.sprint.international.message -0.190692\n",
      "              com.google.android.apps.googlevoice -0.200068\n",
      "                              com.walmart.android -0.201243\n",
      "                       com.miniclip.eightballpool -0.205619\n",
      "                                 com.adobe.reader -0.206707\n",
      "                                 com.scannerradio -0.206776\n",
      "                 com.wunderground.android.weather -0.216626\n",
      "                             com.reddit.frontpage -0.223528\n",
      "                                  com.aws.android -0.223581\n",
      "                     com.discoverfinancial.mobile -0.225637\n",
      "                                       moto e (4) -0.234678\n",
      "                                      com.stubhub -0.236276\n",
      "           com.kathleenoswald.solitairegoogleplay -0.249423\n",
      "               com.cardinalblue.piccollage.google -0.259862\n",
      "                            com.appxy.tinyscanner -0.263903\n",
      "        com.google.android.instantapps.supervisor -0.320519\n",
      "                                         lg-ls997 -0.329692\n",
      "                                  com.sprint.care -0.361004\n",
      "                                 com.etsy.android -0.414183\n",
      "                                         lg-lk460 -0.623896\n"
     ]
    }
   ],
   "source": [
    "print('train features after regularization: {}'.format((coefs['coef'] != 0).sum()))\n",
    "print('intercept: {}'.format(model.intercept_[0]))\n",
    "print('coefficients:\\n{}'.format(\n",
    "    coefs[coefs['coef'] != 0].sort_values('coef', ascending=False).to_string(index=False)))"
   ]
  },
  {
   "cell_type": "code",
   "execution_count": 33,
   "metadata": {},
   "outputs": [
    {
     "name": "stdout",
     "output_type": "stream",
     "text": [
      "train average precision: 0.3064920542666837\n",
      "test average precision: 0.22880580845235723\n"
     ]
    }
   ],
   "source": [
    "print('train average precision: {}'.format(\n",
    "    average_precision_score(response, model.predict_proba(model_df)[:, 1])))\n",
    "print('test average precision: {}'.format(\n",
    "    average_precision_score(X_test[RESPONSE], model.predict_proba(model_df_test[model_df.columns])[:, 1])))"
   ]
  },
  {
   "cell_type": "code",
   "execution_count": 34,
   "metadata": {},
   "outputs": [],
   "source": [
    "pred_train = pd.DataFrame(list(zip(response, model.predict_proba(model_df)[:, 1])), columns=['label', 'pred'])\n",
    "pred_quamtiles_train = pred_train['pred'].quantile(np.arange(0, 101, 5) / 100)\n",
    "pred_vs_label_train = []\n",
    "for i in range(pred_quamtiles_train.shape[0] - 1):\n",
    "    pred_vs_label_train.append(pred_train.query('{low} < pred <= {high}'.format(\n",
    "        low=pred_quamtiles_train.iloc[i], high=pred_quamtiles_train.iloc[i+1])).mean().tolist())\n",
    "    \n",
    "pred_test = pd.DataFrame(list(zip(X_test[RESPONSE], model.predict_proba(model_df_test[model_df.columns])[:, 1])), columns=['label', 'pred'])\n",
    "pred_quamtiles_test = pred_test['pred'].quantile(np.arange(0, 101, 5) / 100)\n",
    "pred_vs_label_test = []\n",
    "for i in range(pred_quamtiles_test.shape[0] - 1):\n",
    "    pred_vs_label_test.append(pred_test.query('{low} < pred <= {high}'.format(\n",
    "        low=pred_quamtiles_test.iloc[i], high=pred_quamtiles_test.iloc[i+1])).mean().tolist())"
   ]
  },
  {
   "cell_type": "code",
   "execution_count": 35,
   "metadata": {},
   "outputs": [
    {
     "data": {
      "text/plain": [
       "<matplotlib.legend.Legend at 0x116860160>"
      ]
     },
     "execution_count": 35,
     "metadata": {},
     "output_type": "execute_result"
    },
    {
     "data": {
      "image/png": "[encoded data removed]",
      "text/plain": [
       "<matplotlib.figure.Figure at 0x114e13080>"
      ]
     },
     "metadata": {},
     "output_type": "display_data"
    }
   ],
   "source": [
    "pred_train['pred'].plot.kde(xlim=(0, 1), figsize=(10,5), label='train')\n",
    "pred_test['pred'].plot.kde(xlim=(0, 1), figsize=(10,5), label='test')\n",
    "plt.title('Predictions Density', fontsize=20)\n",
    "plt.legend(fontsize=15)"
   ]
  },
  {
   "cell_type": "code",
   "execution_count": 36,
   "metadata": {},
   "outputs": [
    {
     "data": {
      "text/plain": [
       "Text(0.5,1,'Test Data')"
      ]
     },
     "execution_count": 36,
     "metadata": {},
     "output_type": "execute_result"
    },
    {
     "data": {
      "image/png": "[encoded data removed]",
      "text/plain": [
       "<matplotlib.figure.Figure at 0x1147517b8>"
      ]
     },
     "metadata": {},
     "output_type": "display_data"
    }
   ],
   "source": [
    "fig, (left, right) = plt.subplots(ncols=2, figsize=(15, 7))\n",
    "\n",
    "pred_vs_label_train = pd.DataFrame(pred_vs_label_train, columns=['label', 'pred'])\n",
    "pred_vs_label_train.plot.scatter(x='label', y='pred', xlim=(0, 0.5), ylim=(0, 0.5), ax=left)\n",
    "left.plot(np.linspace(0, 0.5, 100), np.linspace(0, 0.5, 100), linestyle=':')\n",
    "left.set_title('Train Data', fontsize=20)\n",
    "\n",
    "pred_vs_label_test = pd.DataFrame(pred_vs_label_test, columns=['label', 'pred'])\n",
    "pred_vs_label_test.plot.scatter(x='label', y='pred', xlim=(0, 0.5), ylim=(0, 0.5), ax=right)\n",
    "right.plot(np.linspace(0, 0.5, 100), np.linspace(0, 0.5, 100), linestyle=':')\n",
    "right.set_title('Test Data', fontsize=20)"
   ]
  },
  {
   "cell_type": "code",
   "execution_count": 37,
   "metadata": {},
   "outputs": [
    {
     "data": {
      "text/plain": [
       "<matplotlib.legend.Legend at 0x1147ea9e8>"
      ]
     },
     "execution_count": 37,
     "metadata": {},
     "output_type": "execute_result"
    },
    {
     "data": {
      "image/png": "[encoded data removed]",
      "text/plain": [
       "<matplotlib.figure.Figure at 0x114ec43c8>"
      ]
     },
     "metadata": {},
     "output_type": "display_data"
    }
   ],
   "source": [
    "plt.figure(figsize=(10,7))\n",
    "plt.xlim(0,1)\n",
    "plt.ylim(0,1)\n",
    "precision_train, recall_train, thresholds_train = \\\n",
    "    precision_recall_curve(pred_train['label'], pred_train['pred'])\n",
    "ap_train = average_precision_score(pred_train['label'], pred_train['pred'])\n",
    "plt.plot(recall_train, precision_train, label='train: AP={0:0.2f}'.format(ap_train))\n",
    "precision_test, recall_test, thresholds_test = \\\n",
    "    precision_recall_curve(pred_test['label'], pred_test['pred'])\n",
    "ap_test = average_precision_score(pred_test['label'], pred_test['pred'])\n",
    "plt.plot(recall_test, precision_test, label='test: AP={0:0.2f}'.format(ap_test))\n",
    "plt.hlines(response.value_counts(normalize=True).loc[1], 0, 1, linestyle=':')\n",
    "plt.title('2-class Precision-Recall curve', fontsize=15)\n",
    "plt.xlabel('Recall', fontsize=15)\n",
    "plt.ylabel('Precision', fontsize=15)\n",
    "plt.legend(fontsize=15)"
   ]
  },
  {
   "cell_type": "code",
   "execution_count": 38,
   "metadata": {},
   "outputs": [
    {
     "name": "stdout",
     "output_type": "stream",
     "text": [
      "optial cutoff: 0.16951231915882184\n",
      "\n",
      "train:\n",
      "             precision    recall  f1-score   support\n",
      "\n",
      "        0.0       0.90      0.71      0.79     12373\n",
      "        1.0       0.26      0.57      0.36      2190\n",
      "\n",
      "avg / total       0.81      0.69      0.73     14563\n",
      "\n",
      "\n",
      "test:\n",
      "             precision    recall  f1-score   support\n",
      "\n",
      "        0.0       0.88      0.68      0.77      3093\n",
      "        1.0       0.21      0.48      0.29       548\n",
      "\n",
      "avg / total       0.78      0.65      0.70      3641\n",
      "\n"
     ]
    }
   ],
   "source": [
    "f1_score = 2 * recall_train * precision_train / (recall_train + precision_train)\n",
    "f1_score_max_idx = np.where(f1_score == f1_score.max())[0][0]\n",
    "optial_cutoff = thresholds_train[f1_score_max_idx]\n",
    "print('optial cutoff: {}'.format(optial_cutoff))\n",
    "print('\\ntrain:')\n",
    "print(classification_report(pred_train['label'], pred_train['pred'] > optial_cutoff))\n",
    "print('\\ntest:')\n",
    "print(classification_report(pred_test['label'], pred_test['pred'] > optial_cutoff))"
   ]
  }
 ],
 "metadata": {
  "kernelspec": {
   "display_name": "Python 3",
   "language": "python",
   "name": "python3"
  },
  "language_info": {
   "codemirror_mode": {
    "name": "ipython",
    "version": 3
   },
   "file_extension": ".py",
   "mimetype": "text/x-python",
   "name": "python",
   "nbconvert_exporter": "python",
   "pygments_lexer": "ipython3",
   "version": "3.6.4"
  }
 },
 "nbformat": 4,
 "nbformat_minor": 2
}
